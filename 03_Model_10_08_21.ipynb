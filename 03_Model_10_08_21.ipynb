{
 "cells": [
  {
   "cell_type": "markdown",
   "id": "7dc7dd3b",
   "metadata": {},
   "source": [
    "# **Richter's Predictor: Modeling Earthquake Damage - Model Selection**"
   ]
  },
  {
   "cell_type": "markdown",
   "id": "1b6ddc7b-015c-4489-a088-ff332c7f3613",
   "metadata": {},
   "source": [
    "In this notebook we will prepare our data for analysis and try different machine learning models for prediction. After indentifying the most promising models, those are optimized and results are interpreted with regards to our objective. The structure of the notebook follows this outline:\n",
    "- Load modules\n",
    "- Data preprocessing\n",
    "- Model selection\n",
    "- Model optimization\n",
    "- Model summary"
   ]
  },
  {
   "cell_type": "markdown",
   "id": "4dada8a6",
   "metadata": {},
   "source": [
    "## Load modules"
   ]
  },
  {
   "cell_type": "markdown",
   "id": "3a7e64ec-d88f-4e41-a613-007cabf2355b",
   "metadata": {},
   "source": [
    "We load the necessary modules and packages."
   ]
  },
  {
   "cell_type": "code",
   "execution_count": 77,
   "id": "5590df7d",
   "metadata": {},
   "outputs": [
    {
     "name": "stdout",
     "output_type": "stream",
     "text": [
      "module://matplotlib_inline.backend_inline\n"
     ]
    }
   ],
   "source": [
    "# First we load all necessary libraries\n",
    "import numpy as np\n",
    "import pandas as pd\n",
    "import seaborn as sns\n",
    "import random\n",
    "import time\n",
    "import datetime\n",
    "\n",
    "from imblearn.over_sampling import SMOTE \n",
    "from imblearn.under_sampling import RandomUnderSampler, TomekLinks, OneSidedSelection\n",
    "from imblearn.combine import SMOTETomek\n",
    "\n",
    "from pandas_profiling import ProfileReport\n",
    "\n",
    "from sklearn.model_selection import train_test_split, GridSearchCV, RandomizedSearchCV\n",
    "from sklearn.neighbors import KNeighborsClassifier\n",
    "from sklearn.tree import DecisionTreeClassifier\n",
    "from sklearn.svm import SVC\n",
    "\n",
    "from sklearn.metrics import plot_confusion_matrix, recall_score\n",
    "from sklearn.metrics import classification_report, confusion_matrix, roc_curve\n",
    "\n",
    "from sklearn.pipeline import Pipeline\n",
    "from sklearn.compose import ColumnTransformer\n",
    "from sklearn.preprocessing import OneHotEncoder, StandardScaler, MinMaxScaler, KBinsDiscretizer\n",
    "from sklearn.impute import SimpleImputer\n",
    "from sklearn.model_selection import cross_val_predict, cross_val_score, cross_validate\n",
    "from sklearn.model_selection import StratifiedKFold\n",
    "from sklearn.metrics import roc_curve, confusion_matrix, accuracy_score, recall_score, precision_score, f1_score\n",
    "from sklearn.feature_selection import RFECV, RFE\n",
    "\n",
    "from sklearn.linear_model import LogisticRegression\n",
    "from sklearn.tree import DecisionTreeClassifier\n",
    "\n",
    "from sklearn.decomposition import PCA\n",
    "from sklearn.preprocessing import PolynomialFeatures\n",
    "from sklearn.tree import DecisionTreeClassifier\n",
    "from sklearn.ensemble import RandomForestClassifier\n",
    "from sklearn.linear_model import RidgeClassifier\n",
    "from sklearn.ensemble import AdaBoostClassifier\n",
    "import xgboost as xgb\n",
    "from sklearn import svm \n",
    "import multiprocessing as mp\n",
    "from sklearn.ensemble import VotingClassifier\n",
    "\n",
    "from sklearn.metrics import roc_curve, confusion_matrix, accuracy_score, recall_score, precision_score, f1_score\n",
    "\n",
    "import statsmodels.formula.api as smf\n",
    "\n",
    "from numpy import savetxt\n",
    "from numpy import loadtxt\n",
    "import pickle\n",
    "\n",
    "import scipy.sparse\n",
    "from pdpbox import pdp, get_dataset, info_plots\n",
    "\n",
    "import matplotlib            \n",
    "import matplotlib.pyplot as plt\n",
    "plt.style.use('fivethirtyeight')\n",
    "#matplotlib.use('Qt5Agg')\n",
    "%matplotlib inline\n",
    "\n",
    "RSeed = 42\n",
    "print(matplotlib.rcParams['backend'])"
   ]
  },
  {
   "cell_type": "markdown",
   "id": "cd529705",
   "metadata": {},
   "source": [
    "## Import model data"
   ]
  },
  {
   "cell_type": "markdown",
   "id": "e8c0e1c8-068f-4333-9e50-8dc9af4bf2d6",
   "metadata": {},
   "source": [
    "First we import the cleaned up and engineered data from the previous steps."
   ]
  },
  {
   "cell_type": "code",
   "execution_count": 84,
   "id": "30fcde63",
   "metadata": {},
   "outputs": [],
   "source": [
    "#read in data\n",
    "df = pd.read_pickle(\"data/model/data_model_complete.pkl\")"
   ]
  },
  {
   "cell_type": "markdown",
   "id": "d446f24d-7afb-45fe-ad5f-a53d885e087b",
   "metadata": {},
   "source": [
    "## Select features for modeling"
   ]
  },
  {
   "cell_type": "markdown",
   "id": "4add90ea-76ea-4b9d-af66-d79e57e897b4",
   "metadata": {},
   "source": [
    "Then we split the data into features and target in order to perform a second train-test-split. The one we create now will serve as an evaluation set for model selection. We are about to try a range of machine learning models and let them compete for the best solution to our needs. Since we are looking for accessible insight from our machine learning models we are of course limited in a way but still have a wide variety to choose from. Next to our objective f1-score (combined with confusion matrices) we will have a look at the training times of our competitors. The training time is important because we are handeling a pretty large amount of data. Running this notebook with the full dataset takes a lot of time so we were incrementally increasing the amount of training data eliminating weaker models.  "
   ]
  },
  {
   "cell_type": "code",
   "execution_count": 87,
   "id": "3b59782a",
   "metadata": {},
   "outputs": [],
   "source": [
    "#Split data into features and target\n",
    "features = df.copy()\n",
    "target = features.pop(\"damage_grade\")"
   ]
  },
  {
   "cell_type": "code",
   "execution_count": 88,
   "id": "296055b2",
   "metadata": {},
   "outputs": [
    {
     "name": "stdout",
     "output_type": "stream",
     "text": [
      "<class 'pandas.core.frame.DataFrame'>\n",
      "RangeIndex: 751356 entries, 0 to 751355\n",
      "Data columns (total 40 columns):\n",
      " #   Column                                  Non-Null Count   Dtype   \n",
      "---  ------                                  --------------   -----   \n",
      " 0   ward_id                                 751356 non-null  category\n",
      " 1   legal_ownership_status                  751356 non-null  category\n",
      " 2   count_families                          751356 non-null  float64 \n",
      " 3   has_secondary_use                       751356 non-null  category\n",
      " 4   has_secondary_use_agriculture           751356 non-null  category\n",
      " 5   has_secondary_use_hotel                 751356 non-null  category\n",
      " 6   has_secondary_use_rental                751356 non-null  category\n",
      " 7   has_secondary_use_institution           751356 non-null  category\n",
      " 8   has_secondary_use_school                751356 non-null  category\n",
      " 9   has_secondary_use_industry              751356 non-null  category\n",
      " 10  has_secondary_use_health_post           751356 non-null  category\n",
      " 11  has_secondary_use_gov_office            751356 non-null  category\n",
      " 12  has_secondary_use_use_police            751356 non-null  category\n",
      " 13  has_secondary_use_other                 751356 non-null  category\n",
      " 14  count_floors_pre_eq                     751356 non-null  int64   \n",
      " 15  land_surface_condition                  751356 non-null  category\n",
      " 16  foundation_type                         751356 non-null  category\n",
      " 17  roof_type                               751356 non-null  category\n",
      " 18  ground_floor_type                       751356 non-null  category\n",
      " 19  other_floor_type                        751356 non-null  category\n",
      " 20  position                                751356 non-null  category\n",
      " 21  plan_configuration                      751356 non-null  category\n",
      " 22  has_superstructure_adobe_mud            751356 non-null  category\n",
      " 23  has_superstructure_mud_mortar_stone     751356 non-null  category\n",
      " 24  has_superstructure_stone_flag           751356 non-null  category\n",
      " 25  has_superstructure_cement_mortar_stone  751356 non-null  category\n",
      " 26  has_superstructure_mud_mortar_brick     751356 non-null  category\n",
      " 27  has_superstructure_cement_mortar_brick  751356 non-null  category\n",
      " 28  has_superstructure_timber               751356 non-null  category\n",
      " 29  has_superstructure_bamboo               751356 non-null  category\n",
      " 30  has_superstructure_rc_non_engineered    751356 non-null  category\n",
      " 31  has_superstructure_rc_engineered        751356 non-null  category\n",
      " 32  has_superstructure_other                751356 non-null  category\n",
      " 33  structure_sum                           751356 non-null  int64   \n",
      " 34  secondary_sum                           751356 non-null  int64   \n",
      " 35  age_log                                 751356 non-null  float64 \n",
      " 36  height_log                              751356 non-null  float64 \n",
      " 37  area_log                                751356 non-null  float64 \n",
      " 38  ia_area_height_log                      751356 non-null  float64 \n",
      " 39  structure_cat_weak_emp                  751356 non-null  int64   \n",
      "dtypes: category(31), float64(5), int64(4)\n",
      "memory usage: 74.6 MB\n"
     ]
    }
   ],
   "source": [
    "#drop features which are not needed for prediction\n",
    "features_to_drop = ['district_id' ,\"vdcmun_id\" ,'structure_sum_gt_1', 'structure_sum_gt_3', 'structure_sum_ut_3', \n",
    "                    'ia_area_height_cat', 'age_log_cat', 'height_log_cat', 'area_log_cat',\n",
    "                    'ia_area_height_ut_15k', 'ia_area_height_log_cat', 'superstructure_top30', 'superstructure_combination',\n",
    "                    'structure_cat_weak', 'structure_cat_strong', 'structure_5cat_weak',\n",
    "                    'structure_5cat_strong', 'ia_area_height', 'age_building', 'plinth_area_sq_ft', 'height_ft_pre_eq', \n",
    "                    'super_structure', 'secondary_use', 'secondary_use_combination']\n",
    "features = features.drop(features_to_drop, axis=1)\n",
    "features.info()"
   ]
  },
  {
   "cell_type": "markdown",
   "id": "62f903b5-fb34-4ef7-ad23-64744f451061",
   "metadata": {},
   "source": [
    "## Train-Test-Split for model selection"
   ]
  },
  {
   "cell_type": "code",
   "execution_count": 89,
   "id": "1470e06c",
   "metadata": {
    "tags": []
   },
   "outputs": [
    {
     "name": "stdout",
     "output_type": "stream",
     "text": [
      "Training set has 7513 samples.\n",
      "Testing set has 743843 samples.\n"
     ]
    }
   ],
   "source": [
    "# Split the 'features' and 'damage_grade' data into training and testing sets\n",
    "X_train, X_test, y_train, y_test = train_test_split(features, target, \n",
    "                                                    test_size=0.99, \n",
    "                                                    random_state=RSeed, \n",
    "                                                    shuffle=True, \n",
    "                                                    stratify=target)\n",
    "\n",
    "# Show the results of the split\n",
    "print (\"Training set has {} samples.\".format(X_train.shape[0]))\n",
    "print (\"Testing set has {} samples.\".format(X_test.shape[0]))"
   ]
  },
  {
   "cell_type": "code",
   "execution_count": 90,
   "id": "b44edf4a",
   "metadata": {},
   "outputs": [
    {
     "name": "stdout",
     "output_type": "stream",
     "text": [
      "31 categorical features + 9 numerical features = 40 features overall\n"
     ]
    }
   ],
   "source": [
    "num_cols = list(features.columns[features.dtypes=='int64'])\n",
    "num_cols += list(features.columns[features.dtypes=='float'])\n",
    "cat_cols = list(features.columns[features.dtypes=='category'])\n",
    "cat_cols.remove('ward_id')\n",
    "print(len(cat_cols), 'categorical features +', len(num_cols), 'numerical features =',features.shape[1], 'features overall')"
   ]
  },
  {
   "cell_type": "markdown",
   "id": "b080072f-4ff1-4060-9749-6df270c5473d",
   "metadata": {},
   "source": [
    "## Data Preprocessing"
   ]
  },
  {
   "cell_type": "markdown",
   "id": "8b3b3af0-8ad3-4ee3-a026-3d3c6b0c2ff5",
   "metadata": {},
   "source": [
    "We still have some work to do before we can start with the calculations. From the summary above you may assume that the dataset is quite easy to manage. But converting it into meaningful and relevant information for our models takes serveral steps that increases the size of the data significantly. Here is a quick overview over those steps:\n",
    "- Undersample the majortiy class (damage class 3) \n",
    "- OneHotEncode categorical data\n",
    "- Scale, reduce and add polynomials and interactions for numerical data\n",
    "- Recursive Feature Elimination in order to reduce the data to the most relevant information\n"
   ]
  },
  {
   "cell_type": "markdown",
   "id": "ec7bc2e6-5a5e-445a-9f12-47b36d16f5a2",
   "metadata": {},
   "source": [
    "We cut the data preparation pipeline down into single steps in order to get more feedback during the time consuming calculations. After all preprocessing steps we get back small summary that summarizes the most important results."
   ]
  },
  {
   "cell_type": "code",
   "execution_count": 91,
   "id": "3740674a-d45d-4017-b6ca-76d9eda5b5ce",
   "metadata": {},
   "outputs": [
    {
     "data": {
      "text/plain": [
       "\"\\npipe_sample = Pipeline(steps=[   \\n    ('preprocessor', preprocessor),\\n    ('sampler', sampler)\\n])\\n\""
      ]
     },
     "execution_count": 91,
     "metadata": {},
     "output_type": "execute_result"
    }
   ],
   "source": [
    "undersampler = OneSidedSelection(n_neighbors=2, n_seeds_S=150, n_jobs=-1, random_state=RSeed)\n",
    "\n",
    "selector = RFE(DecisionTreeClassifier(min_samples_split=100, random_state=RSeed), step=0.1, verbose=10)\n",
    "\n",
    "pca = PCA(random_state=RSeed)\n",
    "\n",
    "polynom = PolynomialFeatures(degree=3, include_bias=False)\n",
    "\n",
    "cat_pipeline = Pipeline([\n",
    "    ('1hot', OneHotEncoder(handle_unknown='ignore', drop='if_binary'),\n",
    "])\n",
    "\n",
    "num_pipeline = Pipeline([\n",
    "    ('std_scaler', StandardScaler()),\n",
    "    ('reducer', pca),\n",
    "    ('poly', polynom)\n",
    "])\n",
    "\n",
    "preprocessor = ColumnTransformer([\n",
    "    ('num', num_pipeline, num_cols),\n",
    "    ('cat', cat_pipeline, cat_cols)\n",
    "], remainder: 'passthrough')"
   ]
  },
  {
   "cell_type": "markdown",
   "id": "80076a26-cf82-4f81-80ef-b4cf5a5bec06",
   "metadata": {},
   "source": [
    "### Resampling"
   ]
  },
  {
   "cell_type": "code",
   "execution_count": 92,
   "id": "7b2cc1d4-1e80-4dcd-b147-202710c43fb4",
   "metadata": {},
   "outputs": [],
   "source": [
    "# Var of type object into category\n",
    "obj_cols = list(X_train.columns[X_train.dtypes=='category'])\n",
    "lst_dict = [\"repl_\" + i for i in obj_cols]\n",
    "for i, col in enumerate(obj_cols):\n",
    "    data = X_train[col].value_counts()\n",
    "    dic = lst_dict[i] \n",
    "    dic = dict()\n",
    "    for j in range(0, len(data)):\n",
    "        dic[data.index[j]] = j + 1\n",
    "    lst_dict[i] = dic\n",
    "for i, col in enumerate(obj_cols):\n",
    "    X_train[col] = X_train[col].replace(lst_dict[i])\n",
    "    X_train[col] = pd.to_numeric(X_train[col])   "
   ]
  },
  {
   "cell_type": "code",
   "execution_count": 93,
   "id": "30f895ec-6cb6-42f8-ba85-827e806a13b8",
   "metadata": {},
   "outputs": [
    {
     "name": "stdout",
     "output_type": "stream",
     "text": [
      "0.35007548332214355\n"
     ]
    }
   ],
   "source": [
    "start = time.time()\n",
    "X_train_rsm, y_train = undersampler.fit_resample(X_train, y_train)\n",
    "end = time.time()\n",
    "duration = end - start\n",
    "print(duration)"
   ]
  },
  {
   "cell_type": "code",
   "execution_count": 94,
   "id": "bd6a265e-d838-4e3e-b41f-7f77a07d8076",
   "metadata": {},
   "outputs": [],
   "source": [
    "df[obj_cols] = df[obj_cols].astype('category')"
   ]
  },
  {
   "cell_type": "markdown",
   "id": "09c03fbe-93c1-41de-9438-b67e88a0581f",
   "metadata": {},
   "source": [
    "### Preprocessing numerical and categorical features"
   ]
  },
  {
   "cell_type": "code",
   "execution_count": 95,
   "id": "2f2e3151-046a-4110-97e6-5f720b4d0bb1",
   "metadata": {},
   "outputs": [
    {
     "name": "stdout",
     "output_type": "stream",
     "text": [
      "11.533713817596436\n"
     ]
    }
   ],
   "source": [
    "start = time.time()\n",
    "X_train_prep = preprocessor.fit_transform(X_train_rsm)\n",
    "X_test_prep = preprocessor.transform(X_test)\n",
    "X_eval_prep = preprocessor.transform(X_eval)\n",
    "end = time.time()\n",
    "duration = end - start\n",
    "print(duration)"
   ]
  },
  {
   "cell_type": "markdown",
   "id": "05bbceff-0470-4e03-854c-6df7516838af",
   "metadata": {},
   "source": [
    "### Statistical Feature Selection"
   ]
  },
  {
   "cell_type": "code",
   "execution_count": 97,
   "id": "51404f62-8e9c-4178-b023-9c6317a2ffe6",
   "metadata": {},
   "outputs": [
    {
     "name": "stdout",
     "output_type": "stream",
     "text": [
      "Fitting estimator with 1222 features.\n",
      "Fitting estimator with 1100 features.\n",
      "Fitting estimator with 978 features.\n",
      "Fitting estimator with 856 features.\n",
      "Fitting estimator with 734 features.\n",
      "Fitting estimator with 612 features.\n",
      "22.458178758621216\n"
     ]
    }
   ],
   "source": [
    "start = time.time()\n",
    "X_train_sel = selector.fit_transform(X_train_prep, y_train)\n",
    "X_test_sel = selector.transform(X_test_prep)\n",
    "X_eval_sel = selector.transform(X_eval_prep)\n",
    "end = time.time()\n",
    "duration = end - start\n",
    "print(duration)"
   ]
  },
  {
   "cell_type": "code",
   "execution_count": 98,
   "id": "c66df8d2-261a-48bd-88e8-6a3debfd88fd",
   "metadata": {},
   "outputs": [
    {
     "name": "stdout",
     "output_type": "stream",
     "text": [
      "After resampling, preprocessing, and recursive feature elimination the training dataset has 6089 rows and 611 columns.\n",
      "The training labels have 6089 entries.\n",
      "The test set includes 743843 rows and 611 columns.\n"
     ]
    }
   ],
   "source": [
    "print(\"After resampling, preprocessing, and recursive feature elimination the training dataset has \"+\n",
    "      str(X_train_sel.shape[0])+\" rows and \"+str(X_train_sel.shape[1])+\" columns.\\n\"+\n",
    "      \"The training labels have \"+str(y_train.shape[0])+\" entries.\\n\"+\n",
    "      \"The test set includes \"+str(X_test_sel.shape[0])+\" rows and \"+str(X_test_sel.shape[1])+\" columns.\")"
   ]
  },
  {
   "cell_type": "markdown",
   "id": "e6fc609c",
   "metadata": {},
   "source": [
    "## Model selection"
   ]
  },
  {
   "cell_type": "markdown",
   "id": "0d5636d4-3756-4855-8f25-c5262e48d530",
   "metadata": {},
   "source": [
    "Now that we prepared the data for the statistical models we will test different models. They all share a certain accessibility in one or another way. Speaking in broad terms we are applying models from two distinct families - tree based models and linear models. All models estimated with a minimum of parameters to get an idea about their unoptimized performance. We will optimize the most promising models in later steps. The next cells contain a lot of code but can be summarized with few bullet points:\n",
    "- We define a list of models we want to test\n",
    "- We define a function that returns detailed output about model performance\n",
    "- We train all models defined earlier and keep track of results "
   ]
  },
  {
   "cell_type": "code",
   "execution_count": null,
   "id": "9db3a5bb",
   "metadata": {},
   "outputs": [],
   "source": [
    "# Define a list of models \n",
    "models = [\n",
    "        DecisionTreeClassifier(min_samples_split=100, random_state=RSeed),\n",
    "        RandomForestClassifier(n_estimators=500,max_depth=25, random_state=RSeed, n_jobs=-1),        \n",
    "        xgb.XGBClassifier(random_state=RSeed, objective='multi:softprob',\n",
    "                          eval_metric=\"auc\", use_label_encoder=False,\n",
    "                          n_jobs=-1),\n",
    "        RidgeClassifier(max_iter=2000),\n",
    "        LogisticRegression(max_iter=5000, n_jobs=-1, solver='saga')\n",
    "         ]\n",
    "\n",
    "model_name = [\"DecisionTree\", \"RandomForest\", \"XGBoost\", \"RidgeRegression\", \"LogisticRegression\"]"
   ]
  },
  {
   "cell_type": "code",
   "execution_count": 69,
   "id": "c294af66-2d16-4a99-a49c-ec77b93bd533",
   "metadata": {},
   "outputs": [],
   "source": [
    "# Define a function that prints out a detailed model performance overview \n",
    "def print_scores(y_emp, y_pred):\n",
    "    print('Averaged scores:')\n",
    "    print('-------------------------')\n",
    "    print('Accuracy: {:.2f}'.format(accuracy_score(y_emp, y_pred)))\n",
    "    print('Recall (micro): {:.2f}'.format(recall_score(y_emp, y_pred, average='micro')))\n",
    "    print('Precision (micro): {:.2f}'.format(precision_score(y_emp, y_pred, average='micro')))\n",
    "    print('F1Score (micro): {:.2f}'.format(f1_score(y_emp, y_pred, average='micro')))\n",
    "    print('')\n",
    "    print('F1 scores per class:')\n",
    "    print('-------------------------')\n",
    "    for i, cl in enumerate(f1_score(y_emp, y_pred, average=None)):\n",
    "        print('F1Score - Class {:d}: {:.2f}'.format(i,cl))\n",
    "    cm = confusion_matrix(y_emp, y_pred)\n",
    "    print('')\n",
    "    print('Confusion matrix:')\n",
    "    print('-------------------------')\n",
    "    print(cm)"
   ]
  },
  {
   "cell_type": "code",
   "execution_count": 70,
   "id": "b8fb5126",
   "metadata": {
    "tags": []
   },
   "outputs": [
    {
     "name": "stdout",
     "output_type": "stream",
     "text": [
      "Model DecisionTree done! Summary:\n",
      "\n",
      "Averaged scores:\n",
      "-------------------------\n",
      "Accuracy: 0.60\n",
      "Recall (micro): 0.60\n",
      "Precision (micro): 0.60\n",
      "F1Score (micro): 0.60\n",
      "\n",
      "F1 scores per class:\n",
      "-------------------------\n",
      "F1Score - Class 0: 0.49\n",
      "F1Score - Class 1: 0.17\n",
      "F1Score - Class 2: 0.74\n",
      "\n",
      "Confusion matrix:\n",
      "-------------------------\n",
      "[[ 61610  25773  74677]\n",
      " [ 13339  21022  98743]\n",
      " [ 14948  71865 361866]]\n",
      "\n",
      "\n",
      "\n",
      "Model RandomForest done! Summary:\n",
      "\n",
      "Averaged scores:\n",
      "-------------------------\n",
      "Accuracy: 0.66\n",
      "Recall (micro): 0.66\n",
      "Precision (micro): 0.66\n",
      "F1Score (micro): 0.66\n",
      "\n",
      "F1 scores per class:\n",
      "-------------------------\n",
      "F1Score - Class 0: 0.53\n",
      "F1Score - Class 1: 0.13\n",
      "F1Score - Class 2: 0.79\n",
      "\n",
      "Confusion matrix:\n",
      "-------------------------\n",
      "[[ 68173  19100  74787]\n",
      " [ 13899  12126 107079]\n",
      " [ 12446  23601 412632]]\n",
      "\n",
      "\n",
      "\n",
      "Model XGBoost done! Summary:\n",
      "\n",
      "Averaged scores:\n",
      "-------------------------\n",
      "Accuracy: 0.63\n",
      "Recall (micro): 0.63\n",
      "Precision (micro): 0.63\n",
      "F1Score (micro): 0.63\n",
      "\n",
      "F1 scores per class:\n",
      "-------------------------\n",
      "F1Score - Class 0: 0.50\n",
      "F1Score - Class 1: 0.18\n",
      "F1Score - Class 2: 0.76\n",
      "\n",
      "Confusion matrix:\n",
      "-------------------------\n",
      "[[ 64292  24416  73352]\n",
      " [ 14200  20150  98754]\n",
      " [ 14941  50434 383304]]\n",
      "\n",
      "\n",
      "\n",
      "Model RidgeRegression done! Summary:\n",
      "\n",
      "Averaged scores:\n",
      "-------------------------\n",
      "Accuracy: 0.62\n",
      "Recall (micro): 0.62\n",
      "Precision (micro): 0.62\n",
      "F1Score (micro): 0.62\n",
      "\n",
      "F1 scores per class:\n",
      "-------------------------\n",
      "F1Score - Class 0: 0.26\n",
      "F1Score - Class 1: 0.07\n",
      "F1Score - Class 2: 0.76\n",
      "\n",
      "Confusion matrix:\n",
      "-------------------------\n",
      "[[ 26175  10870 125015]\n",
      " [  6713   5816 120575]\n",
      " [  9762  11358 427559]]\n",
      "\n",
      "\n",
      "\n",
      "Model LogisticRegression done! Summary:\n",
      "\n",
      "Averaged scores:\n",
      "-------------------------\n",
      "Accuracy: 0.62\n",
      "Recall (micro): 0.62\n",
      "Precision (micro): 0.62\n",
      "F1Score (micro): 0.62\n",
      "\n",
      "F1 scores per class:\n",
      "-------------------------\n",
      "F1Score - Class 0: 0.55\n",
      "F1Score - Class 1: 0.17\n",
      "F1Score - Class 2: 0.75\n",
      "\n",
      "Confusion matrix:\n",
      "-------------------------\n",
      "[[ 98184  14688  49188]\n",
      " [ 34968  17850  80286]\n",
      " [ 62159  42042 344478]]\n",
      "\n",
      "\n",
      "\n"
     ]
    }
   ],
   "source": [
    "# Create lists for model results, train models in loop, and create results dataset\n",
    "accuracy = []\n",
    "recall = []\n",
    "precision = []\n",
    "f1 = []\n",
    "\n",
    "accuracy_test = []\n",
    "recall_test = []\n",
    "precision_test = []\n",
    "f1_test = []\n",
    "\n",
    "time_train = []\n",
    "time_predict_train = []\n",
    "time_predict_test = []\n",
    "\n",
    "k = len(models)\n",
    "\n",
    "for i in range(k):\n",
    "    start_fit = time.time()\n",
    "    model = models[i].fit(X_train_sel, y_train)  \n",
    "    end_fit = time.time()\n",
    "    y_pred = models[i].predict(X_train_sel)\n",
    "    end_predict_train = time.time()\n",
    "    y_pred_test = models[i].predict(X_test_sel)\n",
    "    end_predict_test = time.time()\n",
    "    \n",
    "    accuracy.append(accuracy_score(y_train, y_pred))\n",
    "    recall.append(recall_score(y_train, y_pred, average='micro'))\n",
    "    precision.append(precision_score(y_train, y_pred, average='micro'))\n",
    "    f1.append(f1_score(y_train, y_pred, average='micro'))\n",
    "    \n",
    "    accuracy_test.append(accuracy_score(y_test, y_pred_test))\n",
    "    recall_test.append(recall_score(y_test, y_pred_test, average='micro'))\n",
    "    precision_test.append(precision_score(y_test, y_pred_test, average='micro'))\n",
    "    f1_test.append(f1_score(y_test, y_pred_test, average='micro'))\n",
    "    \n",
    "    time_train.append(end_fit-start_fit) \n",
    "    time_predict_train.append(end_predict_train-end_fit)\n",
    "    time_predict_test.append(end_predict_test-end_predict_train)\n",
    "    \n",
    "    print(f\"Model {model_name[i]} done! Summary:\\n\")\n",
    "    print_scores(y_test, y_pred_test)\n",
    "    print('\\n\\n')\n",
    "    \n",
    "df_scores = pd.DataFrame({\"name\": model_name,\n",
    "                         \"accuracy_train\": accuracy,\n",
    "                         \"recall_train\": recall,\n",
    "                         \"precision_train\": precision,\n",
    "                         \"f1_train\": f1,\n",
    "                         \"accuracy_test\": accuracy_test,\n",
    "                         \"recall_test\": recall_test,\n",
    "                         \"precision_test\": precision_test,\n",
    "                         \"f1_test\": f1_test,\n",
    "                         \"time_train\": time_train,\n",
    "                         \"time_predict_train\": time_predict_train,\n",
    "                         \"time_predict_test\": time_predict_test\n",
    "                         })"
   ]
  },
  {
   "cell_type": "code",
   "execution_count": 71,
   "id": "ad89ba55",
   "metadata": {},
   "outputs": [
    {
     "data": {
      "text/html": [
       "<div>\n",
       "<style scoped>\n",
       "    .dataframe tbody tr th:only-of-type {\n",
       "        vertical-align: middle;\n",
       "    }\n",
       "\n",
       "    .dataframe tbody tr th {\n",
       "        vertical-align: top;\n",
       "    }\n",
       "\n",
       "    .dataframe thead th {\n",
       "        text-align: right;\n",
       "    }\n",
       "</style>\n",
       "<table border=\"1\" class=\"dataframe\">\n",
       "  <thead>\n",
       "    <tr style=\"text-align: right;\">\n",
       "      <th></th>\n",
       "      <th>name</th>\n",
       "      <th>accuracy_train</th>\n",
       "      <th>recall_train</th>\n",
       "      <th>precision_train</th>\n",
       "      <th>f1_train</th>\n",
       "      <th>accuracy_test</th>\n",
       "      <th>recall_test</th>\n",
       "      <th>precision_test</th>\n",
       "      <th>f1_test</th>\n",
       "      <th>time_train</th>\n",
       "      <th>time_predict_train</th>\n",
       "      <th>time_predict_test</th>\n",
       "    </tr>\n",
       "  </thead>\n",
       "  <tbody>\n",
       "    <tr>\n",
       "      <th>1</th>\n",
       "      <td>RandomForest</td>\n",
       "      <td>0.982592</td>\n",
       "      <td>0.982592</td>\n",
       "      <td>0.982592</td>\n",
       "      <td>0.982592</td>\n",
       "      <td>0.662682</td>\n",
       "      <td>0.662682</td>\n",
       "      <td>0.662682</td>\n",
       "      <td>0.662682</td>\n",
       "      <td>5.783392</td>\n",
       "      <td>0.301308</td>\n",
       "      <td>24.161115</td>\n",
       "    </tr>\n",
       "    <tr>\n",
       "      <th>2</th>\n",
       "      <td>XGBoost</td>\n",
       "      <td>0.956315</td>\n",
       "      <td>0.956315</td>\n",
       "      <td>0.956315</td>\n",
       "      <td>0.956315</td>\n",
       "      <td>0.628824</td>\n",
       "      <td>0.628824</td>\n",
       "      <td>0.628824</td>\n",
       "      <td>0.628824</td>\n",
       "      <td>7.684336</td>\n",
       "      <td>0.017000</td>\n",
       "      <td>1.011738</td>\n",
       "    </tr>\n",
       "    <tr>\n",
       "      <th>4</th>\n",
       "      <td>LogisticRegression</td>\n",
       "      <td>0.704713</td>\n",
       "      <td>0.704713</td>\n",
       "      <td>0.704713</td>\n",
       "      <td>0.704713</td>\n",
       "      <td>0.619098</td>\n",
       "      <td>0.619098</td>\n",
       "      <td>0.619098</td>\n",
       "      <td>0.619098</td>\n",
       "      <td>88.769137</td>\n",
       "      <td>0.006002</td>\n",
       "      <td>0.673150</td>\n",
       "    </tr>\n",
       "    <tr>\n",
       "      <th>3</th>\n",
       "      <td>RidgeRegression</td>\n",
       "      <td>0.753326</td>\n",
       "      <td>0.753326</td>\n",
       "      <td>0.753326</td>\n",
       "      <td>0.753326</td>\n",
       "      <td>0.617805</td>\n",
       "      <td>0.617805</td>\n",
       "      <td>0.617805</td>\n",
       "      <td>0.617805</td>\n",
       "      <td>4.514675</td>\n",
       "      <td>0.009004</td>\n",
       "      <td>0.678184</td>\n",
       "    </tr>\n",
       "    <tr>\n",
       "      <th>0</th>\n",
       "      <td>DecisionTree</td>\n",
       "      <td>0.775333</td>\n",
       "      <td>0.775333</td>\n",
       "      <td>0.775333</td>\n",
       "      <td>0.775333</td>\n",
       "      <td>0.597570</td>\n",
       "      <td>0.597570</td>\n",
       "      <td>0.597570</td>\n",
       "      <td>0.597570</td>\n",
       "      <td>2.987189</td>\n",
       "      <td>0.008002</td>\n",
       "      <td>0.899910</td>\n",
       "    </tr>\n",
       "  </tbody>\n",
       "</table>\n",
       "</div>"
      ],
      "text/plain": [
       "                 name  accuracy_train  recall_train  precision_train  \\\n",
       "1        RandomForest        0.982592      0.982592         0.982592   \n",
       "2             XGBoost        0.956315      0.956315         0.956315   \n",
       "4  LogisticRegression        0.704713      0.704713         0.704713   \n",
       "3     RidgeRegression        0.753326      0.753326         0.753326   \n",
       "0        DecisionTree        0.775333      0.775333         0.775333   \n",
       "\n",
       "   f1_train  accuracy_test  recall_test  precision_test   f1_test  time_train  \\\n",
       "1  0.982592       0.662682     0.662682        0.662682  0.662682    5.783392   \n",
       "2  0.956315       0.628824     0.628824        0.628824  0.628824    7.684336   \n",
       "4  0.704713       0.619098     0.619098        0.619098  0.619098   88.769137   \n",
       "3  0.753326       0.617805     0.617805        0.617805  0.617805    4.514675   \n",
       "0  0.775333       0.597570     0.597570        0.597570  0.597570    2.987189   \n",
       "\n",
       "   time_predict_train  time_predict_test  \n",
       "1            0.301308          24.161115  \n",
       "2            0.017000           1.011738  \n",
       "4            0.006002           0.673150  \n",
       "3            0.009004           0.678184  \n",
       "0            0.008002           0.899910  "
      ]
     },
     "execution_count": 71,
     "metadata": {},
     "output_type": "execute_result"
    }
   ],
   "source": [
    "# Print results table\n",
    "df_scores.sort_values(\"accuracy_test\", ascending=False)"
   ]
  },
  {
   "cell_type": "markdown",
   "id": "4fed5de3-e6c0-4e6b-89a9-fff252a5283b",
   "metadata": {},
   "source": [
    "We see that models deliver different results and pick the two most promising ones for further optimization. We take both leaders from the table above for 1) their accuracy and 2) their fast training speed. Both - Random Forest and XGBoost are tree based models that are well known for their fast calculation times and well performing algorithms. In gerneral, XGBoost should perform slighlty better with complex problems regarding our evalutaion metric, f1 score. "
   ]
  },
  {
   "cell_type": "markdown",
   "id": "e0e82702",
   "metadata": {},
   "source": [
    "## Plot model accuracy"
   ]
  },
  {
   "cell_type": "code",
   "execution_count": 72,
   "id": "5a3288b3",
   "metadata": {},
   "outputs": [
    {
     "data": {
      "image/png": "[encoded data removed]",
      "text/plain": [
       "<Figure size 432x288 with 1 Axes>"
      ]
     },
     "metadata": {
      "needs_background": "dark"
     },
     "output_type": "display_data"
    }
   ],
   "source": [
    "#ax = plt.Figure(figsize=(30,30))\n",
    "plot1 = df_scores.sort_values(\"f1_test\", ascending = True).plot(kind= \"barh\", x= \"name\", y = \"accuracy_test\", legend=None, color='green')\n",
    "plt.xlim([0.4,0.8])\n",
    "plot1.set_xlabel('F1 Score', fontsize = 16, c='white')\n",
    "plot1.set_ylabel('', fontsize = 16, c='white')\n",
    "plot1.set_title('Model Accuracy', fontsize = 20, c='white')\n",
    "plot1.tick_params(colors='white', which='both')\n",
    "#plot1.figure(figsize=(30,30))\n",
    "plt.tight_layout()\n",
    "plt.savefig('Figure_Selection_Model_Accuracy_1_per.png', transparent=True, bbox_inches='tight', dpi=200)"
   ]
  },
  {
   "cell_type": "markdown",
   "id": "a5d7971e",
   "metadata": {},
   "source": [
    "The results from our model selection run are summarized in the figure above."
   ]
  },
  {
   "cell_type": "markdown",
   "id": "4c2842ad",
   "metadata": {},
   "source": [
    "# Model optimization"
   ]
  },
  {
   "cell_type": "markdown",
   "id": "709cf53a-c6ab-4736-bbd9-05a410a95961",
   "metadata": {},
   "source": [
    "In order to get the best performance out of our models we need to optimize them and calibrate them to our current problem at hand. This task is done via Random Search which means we basically try different, random combinations from a list of predefinded model paramters in order to indentify the best working combination. "
   ]
  },
  {
   "cell_type": "markdown",
   "id": "e3e2f073-4522-4e69-bc08-6b7077e9eceb",
   "metadata": {},
   "source": [
    "## Random Forest"
   ]
  },
  {
   "cell_type": "markdown",
   "id": "07863538",
   "metadata": {},
   "source": [
    "We start with the best one: Random Forest. Not only did the Random Forest perform best regarding accuracy metrics but also the training time was expectionally fast. \n",
    "In order to find the best paramters we use a RandomizedSearch over a predefined set of parameters."
   ]
  },
  {
   "cell_type": "code",
   "execution_count": 73,
   "id": "134e26cf-eb94-48df-a450-bf6202e7d4a3",
   "metadata": {},
   "outputs": [
    {
     "name": "stdout",
     "output_type": "stream",
     "text": [
      "Fitting 3 folds for each of 10 candidates, totalling 30 fits\n"
     ]
    },
    {
     "name": "stderr",
     "output_type": "stream",
     "text": [
      "[Parallel(n_jobs=-1)]: Using backend LokyBackend with 16 concurrent workers.\n",
      "[Parallel(n_jobs=-1)]: Done   3 out of  30 | elapsed:   14.4s remaining:  2.2min\n",
      "[Parallel(n_jobs=-1)]: Done   7 out of  30 | elapsed:   15.8s remaining:   52.2s\n",
      "[Parallel(n_jobs=-1)]: Done  11 out of  30 | elapsed:   22.3s remaining:   38.6s\n",
      "[Parallel(n_jobs=-1)]: Done  15 out of  30 | elapsed:   26.2s remaining:   26.2s\n",
      "[Parallel(n_jobs=-1)]: Done  19 out of  30 | elapsed:   31.0s remaining:   17.9s\n",
      "[Parallel(n_jobs=-1)]: Done  23 out of  30 | elapsed:   34.8s remaining:   10.5s\n",
      "[Parallel(n_jobs=-1)]: Done  27 out of  30 | elapsed:   35.6s remaining:    3.9s\n",
      "[Parallel(n_jobs=-1)]: Done  30 out of  30 | elapsed:   39.4s finished\n"
     ]
    },
    {
     "data": {
      "text/plain": [
       "{'n_estimators': 500, 'min_samples_split': 16, 'max_depth': 5}"
      ]
     },
     "execution_count": 73,
     "metadata": {},
     "output_type": "execute_result"
    }
   ],
   "source": [
    "rs_grid_rf = {\n",
    "    'n_estimators': [100, 250, 500],\n",
    "    'max_depth': [5, 10, 20],\n",
    "    'min_samples_split': list(range(7,25))\n",
    "    }\n",
    "\n",
    "# Instantiate random search and define the metric to optimize \n",
    "rs_rf = RandomizedSearchCV(RandomForestClassifier(random_state = RSeed), rs_grid_rf, scoring='f1_micro',\n",
    "                  cv=3, verbose=10, n_iter=10, random_state = RSeed, n_jobs=-1)\n",
    "\n",
    "\n",
    "# Fit randomized search object to data\n",
    "rs_rf.fit(X_train_sel, y_train) \n",
    "\n",
    "best_rf = rs_rf.best_estimator_\n",
    "rs_rf.best_params_"
   ]
  },
  {
   "cell_type": "markdown",
   "id": "dac54965-60ac-49b5-86b2-2f1fb138b9f3",
   "metadata": {},
   "source": [
    "The random search returned the best parameter values for the Random Forest model. We will now use this knowledge to train a final model and add this to our model selection dataset. The cell below defines a function that allows us to repeat this step later."
   ]
  },
  {
   "cell_type": "code",
   "execution_count": 74,
   "id": "eca405fe-b058-44f6-a6d4-613b8c52dd80",
   "metadata": {},
   "outputs": [],
   "source": [
    "def add_run(model_name, model, X_train=X_train, y_train=y_train, X_test=X_test):    \n",
    "    model_name=str(model_name)\n",
    "    start_fit = time.time()\n",
    "    model = model.fit(X_train, y_train)  \n",
    "    end_fit = time.time()\n",
    "    y_pred = model.predict(X_train)\n",
    "    end_predict_train = time.time()\n",
    "    y_pred_test = model.predict(X_test)\n",
    "    end_predict_test = time.time()\n",
    "    \n",
    "    time_sum = round(end_predict_test - start_fit, 0)\n",
    "    \n",
    "    accuracy=(accuracy_score(y_train, y_pred))\n",
    "    recall=(recall_score(y_train, y_pred, average='micro'))\n",
    "    precision=(precision_score(y_train, y_pred, average='micro'))\n",
    "    f1=(f1_score(y_train, y_pred, average='micro'))\n",
    "    \n",
    "    accuracy_test=(accuracy_score(y_test, y_pred_test))\n",
    "    recall_test=(recall_score(y_test, y_pred_test, average='micro'))\n",
    "    precision_test=(precision_score(y_test, y_pred_test, average='micro'))\n",
    "    f1_test=(f1_score(y_test, y_pred_test, average='micro'))\n",
    "    \n",
    "    time_train=(end_fit-start_fit) \n",
    "    time_predict_train=(end_predict_train-end_fit)\n",
    "    time_predict_test=(end_predict_test-end_predict_train)\n",
    "\n",
    "    print(\"Run successful after \"+str(datetime.timedelta(seconds=time_sum))+\" hours.\\n\\n\"+\n",
    "         \"SUMMARY:\\n\\n\")\n",
    "    print_scores(y_test, y_pred_test)\n",
    "    return [model_name,accuracy,recall,precision,f1,\n",
    "                accuracy_test,recall_test,precision_test, f1_test,\n",
    "                time_train, time_predict_train, time_predict_test]"
   ]
  },
  {
   "cell_type": "code",
   "execution_count": 75,
   "id": "c648ce5c-5060-48ab-a884-75cce058a787",
   "metadata": {},
   "outputs": [
    {
     "name": "stdout",
     "output_type": "stream",
     "text": [
      "Run successful after 0:01:43 hours.\n",
      "\n",
      "SUMMARY:\n",
      "\n",
      "\n",
      "Averaged scores:\n",
      "-------------------------\n",
      "Accuracy: 0.69\n",
      "Recall (micro): 0.69\n",
      "Precision (micro): 0.69\n",
      "F1Score (micro): 0.69\n",
      "\n",
      "F1 scores per class:\n",
      "-------------------------\n",
      "F1Score - Class 0: 0.57\n",
      "F1Score - Class 1: 0.00\n",
      "F1Score - Class 2: 0.80\n",
      "\n",
      "Confusion matrix:\n",
      "-------------------------\n",
      "[[ 73530    245  88285]\n",
      " [ 14419    108 118577]\n",
      " [  9440     99 439140]]\n"
     ]
    }
   ],
   "source": [
    "df_scores.loc[len(df_scores)] = add_run(\"Random_Forest_RS\", best_rf, X_train_sel, y_train, X_test_sel)"
   ]
  },
  {
   "cell_type": "markdown",
   "id": "d59adeee-da4e-45a2-a99a-9e39f6d21e8c",
   "metadata": {},
   "source": [
    "We increased the accuracy from the first run and move on with the second model."
   ]
  },
  {
   "cell_type": "code",
   "execution_count": 78,
   "id": "0ea623ef-93d2-4d4d-b56f-f216cc529bb0",
   "metadata": {},
   "outputs": [],
   "source": [
    "filename = 'RF_finalized_model.sav'\n",
    "pickle.dump(best_rf, open(filename, 'wb'))"
   ]
  },
  {
   "cell_type": "markdown",
   "id": "0b76a560-2e04-4f76-9943-0d5eae79cb82",
   "metadata": {},
   "source": [
    "Finally, we save the best Random Forest for later use."
   ]
  },
  {
   "cell_type": "markdown",
   "id": "8b5782b6",
   "metadata": {},
   "source": [
    "## XGBoost"
   ]
  },
  {
   "cell_type": "markdown",
   "id": "37932e7b-ef95-4b08-a4de-dc270ba5a007",
   "metadata": {},
   "source": [
    "Let us continue with XGBoost. In order to find the best paramters we use a RandomizedSearch over a predefined set of parameters like we did with the Random Forest."
   ]
  },
  {
   "cell_type": "code",
   "execution_count": 100,
   "id": "db95b971",
   "metadata": {},
   "outputs": [
    {
     "name": "stdout",
     "output_type": "stream",
     "text": [
      "Fitting 3 folds for each of 10 candidates, totalling 30 fits\n"
     ]
    },
    {
     "name": "stderr",
     "output_type": "stream",
     "text": [
      "[Parallel(n_jobs=-1)]: Using backend LokyBackend with 16 concurrent workers.\n",
      "[Parallel(n_jobs=-1)]: Done   3 out of  30 | elapsed:  2.2min remaining: 20.1min\n",
      "[Parallel(n_jobs=-1)]: Done   7 out of  30 | elapsed:  2.9min remaining:  9.6min\n",
      "[Parallel(n_jobs=-1)]: Done  11 out of  30 | elapsed:  4.5min remaining:  7.8min\n",
      "[Parallel(n_jobs=-1)]: Done  15 out of  30 | elapsed:  4.8min remaining:  4.8min\n",
      "[Parallel(n_jobs=-1)]: Done  19 out of  30 | elapsed:  7.3min remaining:  4.2min\n",
      "[Parallel(n_jobs=-1)]: Done  23 out of  30 | elapsed:  8.0min remaining:  2.4min\n",
      "[Parallel(n_jobs=-1)]: Done  27 out of  30 | elapsed:  8.5min remaining:   56.9s\n",
      "[Parallel(n_jobs=-1)]: Done  30 out of  30 | elapsed:  9.6min finished\n"
     ]
    },
    {
     "name": "stdout",
     "output_type": "stream",
     "text": [
      "[14:13:09] WARNING: ..\\src\\learner.cc:573: \n",
      "Parameters: { \"early_stopping_rounds\", \"evals\" } might not be used.\n",
      "\n",
      "  This may not be accurate due to some parameters are only used in language bindings but\n",
      "  passed down to XGBoost core.  Or some parameters are not used but slip through this\n",
      "  verification. Please open an issue if you find above cases.\n",
      "\n",
      "\n"
     ]
    }
   ],
   "source": [
    "rs_grid_xgb = {\n",
    "    'n_estimators': [100, 250, 500, 1000],\n",
    "    'max_depth': list(range(3,15)),\n",
    "    \"learning_rate\": np.linspace(0.0001, 1).astype(float),\n",
    "    'booster': [\"gbtree\"]\n",
    "    }\n",
    "\n",
    "# Instantiate random search and define the metric to optimize \n",
    "rs_xgb = RandomizedSearchCV(xgb.XGBClassifier(random_state=RSeed, objective='multi:softprob', eval_metric=\"auc\", use_label_encoder=False), \n",
    "                            rs_grid_xgb, scoring='f1_micro', cv=3, verbose=10, n_jobs=-1, n_iter=10, random_state = RSeed)\n",
    "\n",
    "# Fit randomized search object to data\n",
    "rs_xgb.fit(X_train_sel, y_train)\n",
    "\n",
    "best_xgb = rs_xgb.best_estimator_\n",
    "rs_xgb.best_params_"
   ]
  },
  {
   "cell_type": "markdown",
   "id": "d3372897-8b51-435c-97a8-791c5886b999",
   "metadata": {},
   "source": [
    "As we now found the best parameters for model training we will use those for a final training run which is stored with the previous results."
   ]
  },
  {
   "cell_type": "code",
   "execution_count": 101,
   "id": "323a9632-c51a-451d-85a9-54ea77b8c007",
   "metadata": {},
   "outputs": [
    {
     "name": "stdout",
     "output_type": "stream",
     "text": [
      "[14:15:49] WARNING: ..\\src\\learner.cc:573: \n",
      "Parameters: { \"early_stopping_rounds\", \"evals\" } might not be used.\n",
      "\n",
      "  This may not be accurate due to some parameters are only used in language bindings but\n",
      "  passed down to XGBoost core.  Or some parameters are not used but slip through this\n",
      "  verification. Please open an issue if you find above cases.\n",
      "\n",
      "\n",
      "Run successful after 0:00:58 hours.\n",
      "\n",
      "SUMMARY:\n",
      "\n",
      "\n",
      "Averaged scores:\n",
      "-------------------------\n",
      "Accuracy: 0.65\n",
      "Recall (micro): 0.65\n",
      "Precision (micro): 0.65\n",
      "F1Score (micro): 0.65\n",
      "\n",
      "F1 scores per class:\n",
      "-------------------------\n",
      "F1Score - Class 0: 0.51\n",
      "F1Score - Class 1: 0.14\n",
      "F1Score - Class 2: 0.78\n",
      "\n",
      "Confusion matrix:\n",
      "-------------------------\n",
      "[[ 64964  19642  77454]\n",
      " [ 14430  14228 104446]\n",
      " [ 15334  31545 401800]]\n"
     ]
    }
   ],
   "source": [
    "df_scores.loc[len(df_scores)] = add_run(\"XGBoost_RS\", best_xgb, X_train_sel, y_train, X_test_sel)\n",
    "df_scores.to_csv('table_model_selection_1_per.csv')"
   ]
  },
  {
   "cell_type": "markdown",
   "id": "ec428aa2-059e-4ba8-ac1d-6d7f1d2c0697",
   "metadata": {},
   "source": [
    "We save the final model for later use."
   ]
  },
  {
   "cell_type": "code",
   "execution_count": 102,
   "id": "cbbb2748-fc90-45f6-8e8c-2e3d07e69952",
   "metadata": {},
   "outputs": [],
   "source": [
    "filename = 'XGB_finalized_model.sav'\n",
    "pickle.dump(best_xgb, open(filename, 'wb'))"
   ]
  },
  {
   "cell_type": "markdown",
   "id": "102b9efc-f24d-4d2d-9505-7a43543339c6",
   "metadata": {},
   "source": [
    "The graphic below shows how model optimization positively affected our model scores. The increase in accuracy is in the range of single percentage points.  "
   ]
  },
  {
   "cell_type": "code",
   "execution_count": 106,
   "id": "51ae10bd-cb95-4c4a-9688-58372d723b33",
   "metadata": {},
   "outputs": [
    {
     "data": {
      "image/png": "[encoded data removed]",
      "text/plain": [
       "<Figure size 720x504 with 1 Axes>"
      ]
     },
     "metadata": {
      "needs_background": "light"
     },
     "output_type": "display_data"
    }
   ],
   "source": [
    "df_scores.sort_values(\"accuracy_test\", ascending = True , inplace= True)\n",
    "\n",
    "fig, ax = plt.subplots(figsize = (10,7))\n",
    "\n",
    "color_list = [\"lightblue\"] * len(df_scores[\"name\"].to_list())\n",
    "\n",
    "color_list[-1] = \"lightgreen\"\n",
    "color_list[-3] = \"lightgreen\"\n",
    "#color_list[-4] = \"lightgreen\"\n",
    "\n",
    "hbars = ax.barh(df_scores[\"name\"], df_scores[\"accuracy_test\"], align='center', color =color_list)\n",
    "\n",
    "plt.xlim([0,1])\n",
    "\n",
    "ax.set_xlabel('F1Score Test', fontsize = 12)\n",
    "ax.set_ylabel('.')\n",
    "ax.set_title('Model Scores ', fontsize = 24)\n",
    "\n",
    "plt.savefig('Models_accuracy.png', transparent=True, bbox_inches='tight', dpi=200)"
   ]
  },
  {
   "cell_type": "markdown",
   "id": "1c2012ce-57f2-46bb-a106-0a46bc3a37bd",
   "metadata": {},
   "source": [
    "# Model exploration"
   ]
  },
  {
   "cell_type": "markdown",
   "id": "8f4964ed",
   "metadata": {},
   "source": [
    "Finally, in order to find an answer to our question which features are most important in order to migitate earthquake damage on buildings, we will check the feature importance from both our models. "
   ]
  },
  {
   "cell_type": "code",
   "execution_count": 105,
   "id": "4aa6d13c",
   "metadata": {},
   "outputs": [
    {
     "data": {
      "image/png": "[encoded data removed]",
      "text/plain": [
       "<Figure size 720x504 with 1 Axes>"
      ]
     },
     "metadata": {
      "needs_background": "light"
     },
     "output_type": "display_data"
    }
   ],
   "source": [
    "standard_scaler = preprocessor.named_transformers_[\"num\"]['poly']\n",
    "standard_scaler_names = standard_scaler.get_feature_names()\n",
    "column_names = list(standard_scaler_names)\n",
    "\n",
    "hot_encoder = preprocessor.named_transformers_[\"cat\"]['1hot']\n",
    "hot_encoder_names = hot_encoder.get_feature_names()\n",
    "column_names += list(hot_encoder_names)\n",
    "\n",
    "column_names = np.array(column_names).reshape(1,-1)\n",
    "column_names = selector.transform(column_names)\n",
    "column_names = column_names.tolist()[0]\n",
    "\n",
    "importance = list(best_rf.feature_importances_)\n",
    "\n",
    "fig, ax = plt.subplots(figsize = (10,7))\n",
    "\n",
    "df_importance = pd.DataFrame({\"Feature\": column_names, \"Importance\": importance})\n",
    "df_importance.sort_values(\"Importance\", ascending = True, inplace = True)\n",
    "\n",
    "ax.barh(df_importance[\"Feature\"].tail(10), df_importance[\"Importance\"].tail(10))\n",
    "\n",
    "ax.set_xlabel('Feature importance', fontsize = 14)\n",
    "ax.set_ylabel('', fontsize = 12)\n",
    "ax.set_title('Top10 Features', fontsize = 20)\n",
    "\n",
    "plt.savefig('Feature_importance_RF_1per.png', transparent=True, bbox_inches='tight', dpi=200)"
   ]
  },
  {
   "cell_type": "code",
   "execution_count": 107,
   "id": "bc947c7f-c3dd-42e9-a1fc-27aed4275210",
   "metadata": {},
   "outputs": [
    {
     "data": {
      "image/png": "[encoded data removed]",
      "text/plain": [
       "<Figure size 720x504 with 1 Axes>"
      ]
     },
     "metadata": {
      "needs_background": "light"
     },
     "output_type": "display_data"
    }
   ],
   "source": [
    "standard_scaler = preprocessor.named_transformers_[\"num\"]['poly']\n",
    "standard_scaler_names = standard_scaler.get_feature_names()\n",
    "column_names = list(standard_scaler_names)\n",
    "\n",
    "hot_encoder = preprocessor.named_transformers_[\"cat\"]['1hot']\n",
    "hot_encoder_names = hot_encoder.get_feature_names()\n",
    "column_names += list(hot_encoder_names)\n",
    "\n",
    "column_names = np.array(column_names).reshape(1,-1)\n",
    "column_names = selector.transform(column_names)\n",
    "column_names = column_names.tolist()[0]\n",
    "\n",
    "importance = list(best_xgb.feature_importances_)\n",
    "\n",
    "fig, ax = plt.subplots(figsize = (10,7))\n",
    "\n",
    "df_importance = pd.DataFrame({\"Feature\": column_names, \"Importance\": importance})\n",
    "df_importance.sort_values(\"Importance\", ascending = True, inplace = True)\n",
    "\n",
    "ax.barh(df_importance[\"Feature\"].tail(10), df_importance[\"Importance\"].tail(10))\n",
    "\n",
    "ax.set_xlabel('Feature importance', fontsize = 14)\n",
    "ax.set_ylabel('', fontsize = 12)\n",
    "ax.set_title('Top10 Features', fontsize = 20)\n",
    "\n",
    "plt.savefig('Feature_importance_XGB_1per.png', transparent=True, bbox_inches='tight', dpi=200)"
   ]
  },
  {
   "cell_type": "markdown",
   "id": "bc37dee6-cfcd-4f34-9e62-92d261372a35",
   "metadata": {},
   "source": [
    "***Summary:*** \n",
    "- According to our RandomForest Model especially building attributes like height and size of the building are important\n",
    "- According to our XGBoost Model overall the regional area in which the building is located matters more while the most important feature is in accordance with our Random Forest results (building attributes) "
   ]
  },
  {
   "cell_type": "markdown",
   "id": "ccdaf9ed-dad8-45d8-9f64-5628a6bf159e",
   "metadata": {},
   "source": [
    "From the bar graphs above we can see that the features and attributes of buildings have different importances when predicting the grade of damage. We will refrain from diving too deep into our results as we think it is wise to wait for the results from the complete models. But with regards to our initial objective we paved the way for gernerating the insight we hoped to find in the data. We plan to update our final summary as soon as we get back the final calculations. We will then also have a look at in which direction our features are affecting building damage. "
   ]
  }
 ],
 "metadata": {
  "kernelspec": {
   "display_name": "Python 3 (ipykernel)",
   "language": "python",
   "name": "python3"
  },
  "language_info": {
   "codemirror_mode": {
    "name": "ipython",
    "version": 3
   },
   "file_extension": ".py",
   "mimetype": "text/x-python",
   "name": "python",
   "nbconvert_exporter": "python",
   "pygments_lexer": "ipython3",
   "version": "3.8.5"
  }
 },
 "nbformat": 4,
 "nbformat_minor": 5
}
